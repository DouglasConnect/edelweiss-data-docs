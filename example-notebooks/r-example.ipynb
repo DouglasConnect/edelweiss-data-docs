{
 "cells": [
  {
   "cell_type": "code",
   "execution_count": 1,
   "metadata": {},
   "outputs": [],
   "source": [
    "library(httr)\n",
    "library(jsonlite)"
   ]
  },
  {
   "cell_type": "markdown",
   "metadata": {},
   "source": [
    "## Prepare the interaction with EdelweissData"
   ]
  },
  {
   "cell_type": "code",
   "execution_count": 29,
   "metadata": {},
   "outputs": [],
   "source": [
    "# Go to https://edelweissdata.com , log in and go to manage datasets and copy the access token with the button on the top right, then paste it here\n",
    "access_token <- \"\" "
   ]
  },
  {
   "cell_type": "code",
   "execution_count": 3,
   "metadata": {},
   "outputs": [],
   "source": [
    "base_url <- \"https://api.edelweissdata.com\""
   ]
  },
  {
   "cell_type": "markdown",
   "metadata": {},
   "source": [
    "## Create a dataset in EdelweissData"
   ]
  },
  {
   "cell_type": "code",
   "execution_count": 4,
   "metadata": {},
   "outputs": [],
   "source": [
    "request_payload <- list(name=\"Example dataset\")"
   ]
  },
  {
   "cell_type": "code",
   "execution_count": 5,
   "metadata": {},
   "outputs": [
    {
     "data": {
      "text/plain": [
       "{\n",
       "  \"name\": \"Example dataset\"\n",
       "} "
      ]
     },
     "metadata": {},
     "output_type": "display_data"
    }
   ],
   "source": [
    "json_payload <- toJSON(request_payload, pretty=TRUE, auto_unbox=TRUE)\n",
    "json_payload"
   ]
  },
  {
   "cell_type": "code",
   "execution_count": 6,
   "metadata": {},
   "outputs": [
    {
     "data": {
      "text/html": [
       "'https://api.edelweissdata.com/datasets/create'"
      ],
      "text/latex": [
       "'https://api.edelweissdata.com/datasets/create'"
      ],
      "text/markdown": [
       "'https://api.edelweissdata.com/datasets/create'"
      ],
      "text/plain": [
       "[1] \"https://api.edelweissdata.com/datasets/create\""
      ]
     },
     "metadata": {},
     "output_type": "display_data"
    }
   ],
   "source": [
    "create_url <- paste(base_url, \"datasets\", \"create\", sep = \"/\")\n",
    "create_url"
   ]
  },
  {
   "cell_type": "code",
   "execution_count": 7,
   "metadata": {},
   "outputs": [
    {
     "data": {
      "text/html": [
       "<dl>\n",
       "\t<dt>$id</dt>\n",
       "\t\t<dd>'ae81c0a5-3368-41aa-9304-91df4ae83444'</dd>\n",
       "\t<dt>$name</dt>\n",
       "\t\t<dd>'Example dataset'</dd>\n",
       "\t<dt>$schema</dt>\n",
       "\t\t<dd>NULL</dd>\n",
       "\t<dt>$created</dt>\n",
       "\t\t<dd>'2020-09-07T10:45:14.9429781+00:00'</dd>\n",
       "\t<dt>$description</dt>\n",
       "\t\t<dd>''</dd>\n",
       "\t<dt>$metadata</dt>\n",
       "\t\t<dd><dl>\n",
       "</dl>\n",
       "</dd>\n",
       "\t<dt>$dataSource</dt>\n",
       "\t\t<dd>NULL</dd>\n",
       "</dl>\n"
      ],
      "text/latex": [
       "\\begin{description}\n",
       "\\item[\\$id] 'ae81c0a5-3368-41aa-9304-91df4ae83444'\n",
       "\\item[\\$name] 'Example dataset'\n",
       "\\item[\\$schema] NULL\n",
       "\\item[\\$created] '2020-09-07T10:45:14.9429781+00:00'\n",
       "\\item[\\$description] ''\n",
       "\\item[\\$metadata] \\begin{description}\n",
       "\\end{description}\n",
       "\n",
       "\\item[\\$dataSource] NULL\n",
       "\\end{description}\n"
      ],
      "text/markdown": [
       "$id\n",
       ":   'ae81c0a5-3368-41aa-9304-91df4ae83444'\n",
       "$name\n",
       ":   'Example dataset'\n",
       "$schema\n",
       ":   NULL\n",
       "$created\n",
       ":   '2020-09-07T10:45:14.9429781+00:00'\n",
       "$description\n",
       ":   ''\n",
       "$metadata\n",
       ":   \n",
       "\n",
       "\n",
       "$dataSource\n",
       ":   NULL\n",
       "\n",
       "\n"
      ],
      "text/plain": [
       "$id\n",
       "[1] \"ae81c0a5-3368-41aa-9304-91df4ae83444\"\n",
       "\n",
       "$name\n",
       "[1] \"Example dataset\"\n",
       "\n",
       "$schema\n",
       "NULL\n",
       "\n",
       "$created\n",
       "[1] \"2020-09-07T10:45:14.9429781+00:00\"\n",
       "\n",
       "$description\n",
       "[1] \"\"\n",
       "\n",
       "$metadata\n",
       "named list()\n",
       "\n",
       "$dataSource\n",
       "NULL\n"
      ]
     },
     "metadata": {},
     "output_type": "display_data"
    }
   ],
   "source": [
    "res <- POST(create_url, body = json_payload, add_headers(\"Authorization\" = paste(\"bearer\", access_token)))\n",
    "stop_for_status(res)\n",
    "json <- content(res, \"text\")\n",
    "create_reply <- fromJSON(json)\n",
    "create_reply"
   ]
  },
  {
   "cell_type": "markdown",
   "metadata": {},
   "source": [
    "Now extract the DatasetID from the returned json"
   ]
  },
  {
   "cell_type": "code",
   "execution_count": 8,
   "metadata": {},
   "outputs": [
    {
     "data": {
      "text/html": [
       "'ae81c0a5-3368-41aa-9304-91df4ae83444'"
      ],
      "text/latex": [
       "'ae81c0a5-3368-41aa-9304-91df4ae83444'"
      ],
      "text/markdown": [
       "'ae81c0a5-3368-41aa-9304-91df4ae83444'"
      ],
      "text/plain": [
       "[1] \"ae81c0a5-3368-41aa-9304-91df4ae83444\""
      ]
     },
     "metadata": {},
     "output_type": "display_data"
    }
   ],
   "source": [
    "dataset_id <- create_reply$id\n",
    "dataset_id"
   ]
  },
  {
   "cell_type": "markdown",
   "metadata": {},
   "source": [
    "## Upload the CSV data file"
   ]
  },
  {
   "cell_type": "code",
   "execution_count": 9,
   "metadata": {},
   "outputs": [
    {
     "data": {
      "text/html": [
       "'https://api.edelweissdata.com/datasets/ae81c0a5-3368-41aa-9304-91df4ae83444/in-progress/data/upload'"
      ],
      "text/latex": [
       "'https://api.edelweissdata.com/datasets/ae81c0a5-3368-41aa-9304-91df4ae83444/in-progress/data/upload'"
      ],
      "text/markdown": [
       "'https://api.edelweissdata.com/datasets/ae81c0a5-3368-41aa-9304-91df4ae83444/in-progress/data/upload'"
      ],
      "text/plain": [
       "[1] \"https://api.edelweissdata.com/datasets/ae81c0a5-3368-41aa-9304-91df4ae83444/in-progress/data/upload\""
      ]
     },
     "metadata": {},
     "output_type": "display_data"
    }
   ],
   "source": [
    "upload_url <- paste(base_url, \"datasets\", dataset_id, \"in-progress\", \"data\", \"upload\", sep = \"/\")\n",
    "upload_url"
   ]
  },
  {
   "cell_type": "code",
   "execution_count": 12,
   "metadata": {},
   "outputs": [
    {
     "data": {
      "text/html": [
       "<dl>\n",
       "\t<dt>$id</dt>\n",
       "\t\t<dd>'ae81c0a5-3368-41aa-9304-91df4ae83444'</dd>\n",
       "\t<dt>$name</dt>\n",
       "\t\t<dd>'Example dataset'</dd>\n",
       "\t<dt>$schema</dt>\n",
       "\t\t<dd>NULL</dd>\n",
       "\t<dt>$created</dt>\n",
       "\t\t<dd>'2020-09-07T10:45:14.9429780+00:00'</dd>\n",
       "\t<dt>$description</dt>\n",
       "\t\t<dd>''</dd>\n",
       "\t<dt>$metadata</dt>\n",
       "\t\t<dd><dl>\n",
       "</dl>\n",
       "</dd>\n",
       "\t<dt>$dataSource</dt>\n",
       "\t\t<dd>NULL</dd>\n",
       "</dl>\n"
      ],
      "text/latex": [
       "\\begin{description}\n",
       "\\item[\\$id] 'ae81c0a5-3368-41aa-9304-91df4ae83444'\n",
       "\\item[\\$name] 'Example dataset'\n",
       "\\item[\\$schema] NULL\n",
       "\\item[\\$created] '2020-09-07T10:45:14.9429780+00:00'\n",
       "\\item[\\$description] ''\n",
       "\\item[\\$metadata] \\begin{description}\n",
       "\\end{description}\n",
       "\n",
       "\\item[\\$dataSource] NULL\n",
       "\\end{description}\n"
      ],
      "text/markdown": [
       "$id\n",
       ":   'ae81c0a5-3368-41aa-9304-91df4ae83444'\n",
       "$name\n",
       ":   'Example dataset'\n",
       "$schema\n",
       ":   NULL\n",
       "$created\n",
       ":   '2020-09-07T10:45:14.9429780+00:00'\n",
       "$description\n",
       ":   ''\n",
       "$metadata\n",
       ":   \n",
       "\n",
       "\n",
       "$dataSource\n",
       ":   NULL\n",
       "\n",
       "\n"
      ],
      "text/plain": [
       "$id\n",
       "[1] \"ae81c0a5-3368-41aa-9304-91df4ae83444\"\n",
       "\n",
       "$name\n",
       "[1] \"Example dataset\"\n",
       "\n",
       "$schema\n",
       "NULL\n",
       "\n",
       "$created\n",
       "[1] \"2020-09-07T10:45:14.9429780+00:00\"\n",
       "\n",
       "$description\n",
       "[1] \"\"\n",
       "\n",
       "$metadata\n",
       "named list()\n",
       "\n",
       "$dataSource\n",
       "NULL\n"
      ]
     },
     "metadata": {},
     "output_type": "display_data"
    }
   ],
   "source": [
    "res <- POST(upload_url,\n",
    "            body = list(data = upload_file(\"small1.csv\")),\n",
    "            encode = \"multipart\",\n",
    "            add_headers(\"Authorization\" = paste(\"bearer\", access_token))\n",
    "           )\n",
    "stop_for_status(res)\n",
    "json <- content(res, \"text\")\n",
    "upload_reply <- fromJSON(json)\n",
    "upload_reply"
   ]
  },
  {
   "cell_type": "markdown",
   "metadata": {},
   "source": [
    "## Infer the schema"
   ]
  },
  {
   "cell_type": "code",
   "execution_count": 13,
   "metadata": {},
   "outputs": [],
   "source": [
    "infer_url <- paste(base_url, \"datasets\", dataset_id, \"in-progress\", \"schema\", \"infer\", sep = \"/\")"
   ]
  },
  {
   "cell_type": "code",
   "execution_count": 14,
   "metadata": {},
   "outputs": [],
   "source": [
    "res <- POST(infer_url,                        \n",
    "            add_headers(\"Authorization\" = paste(\"bearer\", access_token))\n",
    "           )\n",
    "stop_for_status(res)"
   ]
  },
  {
   "cell_type": "markdown",
   "metadata": {},
   "source": [
    "## Set a human readable description"
   ]
  },
  {
   "cell_type": "code",
   "execution_count": 15,
   "metadata": {},
   "outputs": [],
   "source": [
    "description <- \"Example data description. \n",
    "\""
   ]
  },
  {
   "cell_type": "code",
   "execution_count": 16,
   "metadata": {},
   "outputs": [],
   "source": [
    "update_url <- paste(base_url, \"datasets\", dataset_id, \"in-progress\", sep = \"/\")"
   ]
  },
  {
   "cell_type": "code",
   "execution_count": 17,
   "metadata": {},
   "outputs": [],
   "source": [
    "request_payload <- list(description=description)\n",
    "json_payload <- toJSON(request_payload, pretty=TRUE, auto_unbox=TRUE)"
   ]
  },
  {
   "cell_type": "code",
   "execution_count": 18,
   "metadata": {},
   "outputs": [],
   "source": [
    "res <- POST(update_url, body = json_payload, add_headers(\"Authorization\" = paste(\"bearer\", access_token)))\n",
    "stop_for_status(res)"
   ]
  },
  {
   "cell_type": "markdown",
   "metadata": {},
   "source": [
    "## Set the visibility"
   ]
  },
  {
   "cell_type": "code",
   "execution_count": 19,
   "metadata": {},
   "outputs": [],
   "source": [
    "request_payload <- list(isPublic=TRUE)"
   ]
  },
  {
   "cell_type": "code",
   "execution_count": 20,
   "metadata": {},
   "outputs": [
    {
     "data": {
      "text/plain": [
       "{\n",
       "  \"isPublic\": true\n",
       "} "
      ]
     },
     "metadata": {},
     "output_type": "display_data"
    }
   ],
   "source": [
    "json_payload <- toJSON(request_payload, pretty=TRUE, auto_unbox=TRUE)\n",
    "json_payload"
   ]
  },
  {
   "cell_type": "code",
   "execution_count": 21,
   "metadata": {},
   "outputs": [
    {
     "data": {
      "text/html": [
       "'https://api.edelweissdata.com/datasets/ae81c0a5-3368-41aa-9304-91df4ae83444/permissions/visibility'"
      ],
      "text/latex": [
       "'https://api.edelweissdata.com/datasets/ae81c0a5-3368-41aa-9304-91df4ae83444/permissions/visibility'"
      ],
      "text/markdown": [
       "'https://api.edelweissdata.com/datasets/ae81c0a5-3368-41aa-9304-91df4ae83444/permissions/visibility'"
      ],
      "text/plain": [
       "[1] \"https://api.edelweissdata.com/datasets/ae81c0a5-3368-41aa-9304-91df4ae83444/permissions/visibility\""
      ]
     },
     "metadata": {},
     "output_type": "display_data"
    }
   ],
   "source": [
    "visibility_url <- paste(base_url, \"datasets\", dataset_id, \"permissions\", \"visibility\", sep = \"/\")\n",
    "visibility_url"
   ]
  },
  {
   "cell_type": "code",
   "execution_count": 25,
   "metadata": {},
   "outputs": [],
   "source": [
    "res <- POST(visibility_url, body = json_payload, add_headers(\"Authorization\" = paste(\"bearer\", access_token)))\n",
    "stop_for_status(res)"
   ]
  },
  {
   "cell_type": "markdown",
   "metadata": {},
   "source": [
    "## Publish the dataset"
   ]
  },
  {
   "cell_type": "code",
   "execution_count": 26,
   "metadata": {},
   "outputs": [],
   "source": [
    "publish_url <- paste(base_url, \"datasets\", dataset_id, \"in-progress\", \"publish\", sep = \"/\")\n",
    "request_payload <- list(changelog=\"Initial version\")\n",
    "json_payload <- toJSON(request_payload, pretty=TRUE, auto_unbox=TRUE)"
   ]
  },
  {
   "cell_type": "code",
   "execution_count": 27,
   "metadata": {},
   "outputs": [],
   "source": [
    "res <- POST(publish_url, body = json_payload, add_headers(\"Authorization\" = paste(\"bearer\", access_token)))\n",
    "stop_for_status(res)"
   ]
  },
  {
   "cell_type": "code",
   "execution_count": null,
   "metadata": {},
   "outputs": [],
   "source": []
  }
 ],
 "metadata": {
  "kernelspec": {
   "display_name": "R",
   "language": "R",
   "name": "ir"
  },
  "language_info": {
   "codemirror_mode": "r",
   "file_extension": ".r",
   "mimetype": "text/x-r-source",
   "name": "R",
   "pygments_lexer": "r",
   "version": "3.6.3"
  }
 },
 "nbformat": 4,
 "nbformat_minor": 4
}
