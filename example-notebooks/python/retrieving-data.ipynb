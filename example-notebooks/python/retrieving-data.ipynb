{
 "cells": [
  {
   "cell_type": "markdown",
   "metadata": {},
   "source": [
    "# Retrieving data"
   ]
  },
  {
   "cell_type": "markdown",
   "metadata": {},
   "source": [
    "This notebook shows the python client library equivalents to the raw HTTP calls described in the [retrieving data](https://edelweissdata.com/docs/retrieving-data) walkthrough on the offical EdelweissData documentation website."
   ]
  },
  {
   "cell_type": "markdown",
   "metadata": {},
   "source": [
    "This walkthrough shows how to retrieve a dataset and its data from EdelweissData. One of EdelweissData's principles is that for most interactions there should be a nice graphical user interface as well as a well designed REST like API. For this notebook, we will look at the API requests equivalent to browsing a single dataset in the EdelweissData™ DataExplorer. We'll retrieve information about the \"[COVID-19 timeseries data for Germany by state (RKI data)](https://edelweissdata.com/dataset/8dde2785-8a2a-4847-80b8-982a691954d6:106)\" dataset - if you follow the link you can explore it interactively in the DataExplorer to get an idea about the data."
   ]
  },
  {
   "cell_type": "markdown",
   "metadata": {},
   "source": [
    "In this walkthrough we'll concentrate on public datasets that can be accessed without authorization. If you want to access private datasets, refer to the [authentication notebook](/docs/authentication) for details."
   ]
  },
  {
   "cell_type": "markdown",
   "metadata": {},
   "source": [
    "## Datasets in EdelweissData\n",
    "\n",
    "You can think of datasets in EdelweissData™ as having 4 components:\n",
    "* The **data table** itself\n",
    "* A **dataset description** that explains the data in human readable form - much like a README.md on a github repository\n",
    "* **Metadata** formatted as a JSON document. This can be used to store information about the author, equipment used to collect the data or whatever else you think may be useful.\n",
    "* The **schema** of the data that stores information about the data columns. This includes the data type, an optional description and statistics for numeric values or aggregations for categorical values.\n",
    "\n",
    "Each of these 4 components gets it's own tab in the DataExplorer:\n",
    "![Data Explorer image](https://edelweissdata.com/images/data-explorer-tabs.png)\n",
    "\n",
    "In the python API, datasets are modelled as two classes - InProgressDataset and PublishedDataset. They both allow access to the metadata, description, schema, name etc of the dataset and can be retrieved by calling `API.get_in_progress_dataset()` and `API.get_published_dataset()` respectively, both of which require a datasetId and in the case of the PublishedDataset also a version identifier (see below). Only a PublishedDataset can return the **data table** though, so in the context of retrieving data you will always deal with PublishedDatasets. Retrieving the data is done by calling the `get_data()` member of a PublishedDataset which returns a Pandas dataframe of the dataset.\n",
    "\n",
    "The **datasetId** is a UUID identifier. The **version** is either the integer number that identifies the version of the dataset you want to retrieve (starting at 1 and incremented every time a new version is published), or the special **latest** identifier which will get whatever is the most recent published version of a dataset. Versions are immutable, meaning they are guaranteed by the system not to change once they are published, so you can have exact reproducibility of analysis by referencing a concrete version or using whatever the most up-to-date version of a dataset is if you prefer that."
   ]
  },
  {
   "cell_type": "markdown",
   "metadata": {},
   "source": [
    "## API initialization\n",
    "\n",
    "(See the [setup notebook](setup.ipynb) for details on how to install, initialize and authorize the library)"
   ]
  },
  {
   "cell_type": "code",
   "execution_count": 1,
   "metadata": {},
   "outputs": [],
   "source": [
    "from edelweiss_data import API, QueryExpression as Q\n",
    "\n",
    "# Set this to the url of the Edelweiss Data server you want to interact with\n",
    "edelweiss_api_url = 'https://api.edelweissdata.com'\n",
    "\n",
    "api = API(edelweiss_api_url)"
   ]
  },
  {
   "cell_type": "markdown",
   "metadata": {},
   "source": [
    "## Retrieving the dataset\n",
    "\n",
    "To retrieve a dataset (containing the description, schema and metadata among other pieces of information) you request it by ID and version. Here we want to inspect the \"COVID-19 timeseries for Germany by state (RKI data)\" dataset with id `8dde2785-8a2a-4847-80b8-982a691954d6` at version 106:"
   ]
  },
  {
   "cell_type": "code",
   "execution_count": 2,
   "metadata": {},
   "outputs": [
    {
     "data": {
      "text/plain": [
       "<PublishedDataset '8dde2785-8a2a-4847-80b8-982a691954d6':106 - COVID-19 timeseries data for Germany by state (RKI data)>"
      ]
     },
     "execution_count": 2,
     "metadata": {},
     "output_type": "execute_result"
    }
   ],
   "source": [
    "id = \"8dde2785-8a2a-4847-80b8-982a691954d6\"\n",
    "version = 106\n",
    "covid19_germany_dataset = api.get_published_dataset(id, version)\n",
    "covid19_germany_dataset"
   ]
  },
  {
   "cell_type": "code",
   "execution_count": 4,
   "metadata": {},
   "outputs": [
    {
     "data": {
      "text/plain": [
       "'COVID-19 timeseries data for Germany by state (RKI data)'"
      ]
     },
     "execution_count": 4,
     "metadata": {},
     "output_type": "execute_result"
    }
   ],
   "source": [
    "covid19_germany_dataset.name"
   ]
  },
  {
   "cell_type": "code",
   "execution_count": 5,
   "metadata": {},
   "outputs": [
    {
     "data": {
      "text/plain": [
       "{'category': 'covid-19',\n",
       " 'columnNames': {'daily-cases': 'Cases',\n",
       "  'daily-deaths': 'Deaths',\n",
       "  'date': 'Date',\n",
       "  'region': 'State',\n",
       "  'total-cases': 'TotalCases',\n",
       "  'total-deaths': 'TotalDeaths'},\n",
       " 'dataBackgroundInformation': 'https://npgeo-corona-npgeo-de.hub.arcgis.com/datasets/dd4580c810204019a7b8eb3e0b329dd6_0',\n",
       " 'datetimeRetrieved': '2020-08-26 09:35:47.668202+00:00',\n",
       " 'estimatedReportingCutoff': '2020-08-25 22:00:00+00:00',\n",
       " 'keywords': ['covid-19', 'cases', 'deaths', 'Germany'],\n",
       " 'license': 'https://creativecommons.org/licenses/by-nc-sa/4.0/',\n",
       " 'originalDataCollectionAgency': 'https://www.rki.de',\n",
       " 'regions': ['Baden-Württemberg',\n",
       "  'Bayern',\n",
       "  'Berlin',\n",
       "  'Brandenburg',\n",
       "  'Bremen',\n",
       "  'Hamburg',\n",
       "  'Hessen',\n",
       "  'Mecklenburg-Vorpommern',\n",
       "  'Niedersachsen',\n",
       "  'Nordrhein-Westfalen',\n",
       "  'Rheinland-Pfalz',\n",
       "  'Saarland',\n",
       "  'Sachsen',\n",
       "  'Sachsen-Anhalt',\n",
       "  'Schleswig-Holstein',\n",
       "  'Thüringen'],\n",
       " 'upstreamSource': 'https://opendata.arcgis.com/datasets/dd4580c810204019a7b8eb3e0b329dd6_0.csv'}"
      ]
     },
     "execution_count": 5,
     "metadata": {},
     "output_type": "execute_result"
    }
   ],
   "source": [
    "covid19_germany_dataset.metadata"
   ]
  },
  {
   "cell_type": "code",
   "execution_count": 7,
   "metadata": {},
   "outputs": [
    {
     "data": {
      "text/plain": [
       "[<Column State:xsd:string>,\n",
       " <Column Date:xsd:string>,\n",
       " <Column Cases:xsd:integer>,\n",
       " <Column Deaths:xsd:integer>,\n",
       " <Column TotalCases:xsd:integer>,\n",
       " <Column TotalDeaths:xsd:integer>]"
      ]
     },
     "execution_count": 7,
     "metadata": {},
     "output_type": "execute_result"
    }
   ],
   "source": [
    "covid19_germany_dataset.schema.columns"
   ]
  },
  {
   "cell_type": "markdown",
   "metadata": {},
   "source": [
    "## Retrieving the data\n",
    "\n",
    "For the tabular data component of the dataset there are a few more options since this can result in a lot of data potentially being transmitted.\n",
    "\n",
    "The basic mechanism to retrieve data is to use the `PublishedDataset.get_data()` method. There are various parameters on this method that allow you to only retrieve a limited number of rows, filter rows with a powerful query language (more on this in a later notebook) or ask for only a subset of columns to be returned. The data is returned as a Pandas dataframe. If you were using raw HTTP requests you would have to perform paging to retrieve bigger datasets with multiple requests but the edelweiss_data python client library takes care of these details for you."
   ]
  },
  {
   "cell_type": "code",
   "execution_count": 8,
   "metadata": {},
   "outputs": [
    {
     "data": {
      "text/html": [
       "<div>\n",
       "<style scoped>\n",
       "    .dataframe tbody tr th:only-of-type {\n",
       "        vertical-align: middle;\n",
       "    }\n",
       "\n",
       "    .dataframe tbody tr th {\n",
       "        vertical-align: top;\n",
       "    }\n",
       "\n",
       "    .dataframe thead th {\n",
       "        text-align: right;\n",
       "    }\n",
       "</style>\n",
       "<table border=\"1\" class=\"dataframe\">\n",
       "  <thead>\n",
       "    <tr style=\"text-align: right;\">\n",
       "      <th></th>\n",
       "      <th>State</th>\n",
       "      <th>Date</th>\n",
       "      <th>Cases</th>\n",
       "      <th>Deaths</th>\n",
       "      <th>TotalCases</th>\n",
       "      <th>TotalDeaths</th>\n",
       "    </tr>\n",
       "  </thead>\n",
       "  <tbody>\n",
       "    <tr>\n",
       "      <th>1</th>\n",
       "      <td>Baden-Württemberg</td>\n",
       "      <td>2020/02/24 00:00:00</td>\n",
       "      <td>1</td>\n",
       "      <td>0</td>\n",
       "      <td>1</td>\n",
       "      <td>0</td>\n",
       "    </tr>\n",
       "    <tr>\n",
       "      <th>2</th>\n",
       "      <td>Baden-Württemberg</td>\n",
       "      <td>2020/02/25 00:00:00</td>\n",
       "      <td>2</td>\n",
       "      <td>0</td>\n",
       "      <td>3</td>\n",
       "      <td>0</td>\n",
       "    </tr>\n",
       "    <tr>\n",
       "      <th>3</th>\n",
       "      <td>Baden-Württemberg</td>\n",
       "      <td>2020/02/26 00:00:00</td>\n",
       "      <td>4</td>\n",
       "      <td>0</td>\n",
       "      <td>7</td>\n",
       "      <td>0</td>\n",
       "    </tr>\n",
       "    <tr>\n",
       "      <th>4</th>\n",
       "      <td>Baden-Württemberg</td>\n",
       "      <td>2020/02/27 00:00:00</td>\n",
       "      <td>3</td>\n",
       "      <td>0</td>\n",
       "      <td>10</td>\n",
       "      <td>0</td>\n",
       "    </tr>\n",
       "    <tr>\n",
       "      <th>5</th>\n",
       "      <td>Baden-Württemberg</td>\n",
       "      <td>2020/02/28 00:00:00</td>\n",
       "      <td>7</td>\n",
       "      <td>0</td>\n",
       "      <td>17</td>\n",
       "      <td>0</td>\n",
       "    </tr>\n",
       "    <tr>\n",
       "      <th>...</th>\n",
       "      <td>...</td>\n",
       "      <td>...</td>\n",
       "      <td>...</td>\n",
       "      <td>...</td>\n",
       "      <td>...</td>\n",
       "      <td>...</td>\n",
       "    </tr>\n",
       "    <tr>\n",
       "      <th>2708</th>\n",
       "      <td>Thüringen</td>\n",
       "      <td>2020/08/21 00:00:00</td>\n",
       "      <td>9</td>\n",
       "      <td>0</td>\n",
       "      <td>3547</td>\n",
       "      <td>186</td>\n",
       "    </tr>\n",
       "    <tr>\n",
       "      <th>2709</th>\n",
       "      <td>Thüringen</td>\n",
       "      <td>2020/08/22 00:00:00</td>\n",
       "      <td>5</td>\n",
       "      <td>0</td>\n",
       "      <td>3552</td>\n",
       "      <td>186</td>\n",
       "    </tr>\n",
       "    <tr>\n",
       "      <th>2710</th>\n",
       "      <td>Thüringen</td>\n",
       "      <td>2020/08/23 00:00:00</td>\n",
       "      <td>4</td>\n",
       "      <td>0</td>\n",
       "      <td>3556</td>\n",
       "      <td>186</td>\n",
       "    </tr>\n",
       "    <tr>\n",
       "      <th>2711</th>\n",
       "      <td>Thüringen</td>\n",
       "      <td>2020/08/24 00:00:00</td>\n",
       "      <td>10</td>\n",
       "      <td>0</td>\n",
       "      <td>3566</td>\n",
       "      <td>186</td>\n",
       "    </tr>\n",
       "    <tr>\n",
       "      <th>2712</th>\n",
       "      <td>Thüringen</td>\n",
       "      <td>2020/08/25 00:00:00</td>\n",
       "      <td>5</td>\n",
       "      <td>0</td>\n",
       "      <td>3571</td>\n",
       "      <td>186</td>\n",
       "    </tr>\n",
       "  </tbody>\n",
       "</table>\n",
       "<p>2712 rows × 6 columns</p>\n",
       "</div>"
      ],
      "text/plain": [
       "                  State                 Date  Cases  Deaths  TotalCases  \\\n",
       "1     Baden-Württemberg  2020/02/24 00:00:00      1       0           1   \n",
       "2     Baden-Württemberg  2020/02/25 00:00:00      2       0           3   \n",
       "3     Baden-Württemberg  2020/02/26 00:00:00      4       0           7   \n",
       "4     Baden-Württemberg  2020/02/27 00:00:00      3       0          10   \n",
       "5     Baden-Württemberg  2020/02/28 00:00:00      7       0          17   \n",
       "...                 ...                  ...    ...     ...         ...   \n",
       "2708          Thüringen  2020/08/21 00:00:00      9       0        3547   \n",
       "2709          Thüringen  2020/08/22 00:00:00      5       0        3552   \n",
       "2710          Thüringen  2020/08/23 00:00:00      4       0        3556   \n",
       "2711          Thüringen  2020/08/24 00:00:00     10       0        3566   \n",
       "2712          Thüringen  2020/08/25 00:00:00      5       0        3571   \n",
       "\n",
       "      TotalDeaths  \n",
       "1               0  \n",
       "2               0  \n",
       "3               0  \n",
       "4               0  \n",
       "5               0  \n",
       "...           ...  \n",
       "2708          186  \n",
       "2709          186  \n",
       "2710          186  \n",
       "2711          186  \n",
       "2712          186  \n",
       "\n",
       "[2712 rows x 6 columns]"
      ]
     },
     "execution_count": 8,
     "metadata": {},
     "output_type": "execute_result"
    }
   ],
   "source": [
    "covid19_germany_data = covid19_germany_dataset.get_data()\n",
    "covid19_germany_data"
   ]
  },
  {
   "cell_type": "markdown",
   "metadata": {},
   "source": [
    "The data retrieval endpoint accepts a DataQuery that allows you to order the data differently, filter the rows or return only selected columns (for details about the Query Language refer to the [Query Language walkthrough](/docs/query-language)).\n",
    "\n",
    "Here is an example that filters to only the rows where the State column is \"Berlin\", orders by the number of new cases descending and returns only the first 10 rows:"
   ]
  },
  {
   "cell_type": "code",
   "execution_count": 11,
   "metadata": {},
   "outputs": [
    {
     "data": {
      "text/html": [
       "<div>\n",
       "<style scoped>\n",
       "    .dataframe tbody tr th:only-of-type {\n",
       "        vertical-align: middle;\n",
       "    }\n",
       "\n",
       "    .dataframe tbody tr th {\n",
       "        vertical-align: top;\n",
       "    }\n",
       "\n",
       "    .dataframe thead th {\n",
       "        text-align: right;\n",
       "    }\n",
       "</style>\n",
       "<table border=\"1\" class=\"dataframe\">\n",
       "  <thead>\n",
       "    <tr style=\"text-align: right;\">\n",
       "      <th></th>\n",
       "      <th>State</th>\n",
       "      <th>Date</th>\n",
       "      <th>Cases</th>\n",
       "      <th>Deaths</th>\n",
       "      <th>TotalCases</th>\n",
       "      <th>TotalDeaths</th>\n",
       "    </tr>\n",
       "  </thead>\n",
       "  <tbody>\n",
       "    <tr>\n",
       "      <th>398</th>\n",
       "      <td>Berlin</td>\n",
       "      <td>2020/03/26 00:00:00</td>\n",
       "      <td>286</td>\n",
       "      <td>4</td>\n",
       "      <td>2032</td>\n",
       "      <td>23</td>\n",
       "    </tr>\n",
       "    <tr>\n",
       "      <th>397</th>\n",
       "      <td>Berlin</td>\n",
       "      <td>2020/03/25 00:00:00</td>\n",
       "      <td>245</td>\n",
       "      <td>2</td>\n",
       "      <td>1746</td>\n",
       "      <td>19</td>\n",
       "    </tr>\n",
       "    <tr>\n",
       "      <th>406</th>\n",
       "      <td>Berlin</td>\n",
       "      <td>2020/04/03 00:00:00</td>\n",
       "      <td>239</td>\n",
       "      <td>17</td>\n",
       "      <td>3564</td>\n",
       "      <td>74</td>\n",
       "    </tr>\n",
       "    <tr>\n",
       "      <th>405</th>\n",
       "      <td>Berlin</td>\n",
       "      <td>2020/04/02 00:00:00</td>\n",
       "      <td>237</td>\n",
       "      <td>7</td>\n",
       "      <td>3325</td>\n",
       "      <td>57</td>\n",
       "    </tr>\n",
       "    <tr>\n",
       "      <th>403</th>\n",
       "      <td>Berlin</td>\n",
       "      <td>2020/03/31 00:00:00</td>\n",
       "      <td>213</td>\n",
       "      <td>3</td>\n",
       "      <td>2901</td>\n",
       "      <td>42</td>\n",
       "    </tr>\n",
       "    <tr>\n",
       "      <th>399</th>\n",
       "      <td>Berlin</td>\n",
       "      <td>2020/03/27 00:00:00</td>\n",
       "      <td>205</td>\n",
       "      <td>5</td>\n",
       "      <td>2237</td>\n",
       "      <td>28</td>\n",
       "    </tr>\n",
       "    <tr>\n",
       "      <th>410</th>\n",
       "      <td>Berlin</td>\n",
       "      <td>2020/04/07 00:00:00</td>\n",
       "      <td>202</td>\n",
       "      <td>15</td>\n",
       "      <td>4096</td>\n",
       "      <td>105</td>\n",
       "    </tr>\n",
       "    <tr>\n",
       "      <th>396</th>\n",
       "      <td>Berlin</td>\n",
       "      <td>2020/03/24 00:00:00</td>\n",
       "      <td>199</td>\n",
       "      <td>5</td>\n",
       "      <td>1501</td>\n",
       "      <td>17</td>\n",
       "    </tr>\n",
       "    <tr>\n",
       "      <th>400</th>\n",
       "      <td>Berlin</td>\n",
       "      <td>2020/03/28 00:00:00</td>\n",
       "      <td>197</td>\n",
       "      <td>3</td>\n",
       "      <td>2434</td>\n",
       "      <td>31</td>\n",
       "    </tr>\n",
       "    <tr>\n",
       "      <th>404</th>\n",
       "      <td>Berlin</td>\n",
       "      <td>2020/04/01 00:00:00</td>\n",
       "      <td>187</td>\n",
       "      <td>8</td>\n",
       "      <td>3088</td>\n",
       "      <td>50</td>\n",
       "    </tr>\n",
       "  </tbody>\n",
       "</table>\n",
       "</div>"
      ],
      "text/plain": [
       "      State                 Date  Cases  Deaths  TotalCases  TotalDeaths\n",
       "398  Berlin  2020/03/26 00:00:00    286       4        2032           23\n",
       "397  Berlin  2020/03/25 00:00:00    245       2        1746           19\n",
       "406  Berlin  2020/04/03 00:00:00    239      17        3564           74\n",
       "405  Berlin  2020/04/02 00:00:00    237       7        3325           57\n",
       "403  Berlin  2020/03/31 00:00:00    213       3        2901           42\n",
       "399  Berlin  2020/03/27 00:00:00    205       5        2237           28\n",
       "410  Berlin  2020/04/07 00:00:00    202      15        4096          105\n",
       "396  Berlin  2020/03/24 00:00:00    199       5        1501           17\n",
       "400  Berlin  2020/03/28 00:00:00    197       3        2434           31\n",
       "404  Berlin  2020/04/01 00:00:00    187       8        3088           50"
      ]
     },
     "execution_count": 11,
     "metadata": {},
     "output_type": "execute_result"
    }
   ],
   "source": [
    "filter = Q.exact_search(Q.column(\"State\"), \"Berlin\")\n",
    "order_by = Q.column(\"Cases\")\n",
    "worst_10_days_berlin = covid19_germany_dataset.get_data(condition = filter, order_by = [(order_by)], ascending = [False], limit = 10)\n",
    "worst_10_days_berlin"
   ]
  }
 ],
 "metadata": {
  "kernelspec": {
   "display_name": "Python 3",
   "language": "python",
   "name": "python3"
  },
  "language_info": {
   "codemirror_mode": {
    "name": "ipython",
    "version": 3
   },
   "file_extension": ".py",
   "mimetype": "text/x-python",
   "name": "python",
   "nbconvert_exporter": "python",
   "pygments_lexer": "ipython3",
   "version": "3.8.5"
  }
 },
 "nbformat": 4,
 "nbformat_minor": 4
}
