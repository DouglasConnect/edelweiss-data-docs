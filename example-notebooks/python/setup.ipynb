{
 "cells": [
  {
   "cell_type": "markdown",
   "metadata": {},
   "source": [
    "## Setup\n",
    "\n",
    "To install the edelweiss_data data library, just use pip:\n",
    "\n",
    "```bash\n",
    "pip install edelweiss_data\n",
    "```"
   ]
  },
  {
   "cell_type": "markdown",
   "metadata": {},
   "source": [
    "## Using the library\n",
    "\n",
    "You interact with the Edelweiss Data API mainly via the API class of the edelweiss_data python library. Import it, point it at the Edelweiss Data instance you want to interact with and instantiate it like this"
   ]
  },
  {
   "cell_type": "code",
   "execution_count": 3,
   "metadata": {},
   "outputs": [],
   "source": [
    "from edelweiss_data import API, QueryExpression as Q\n",
    "\n",
    "# Set this to the url of the Edelweiss Data server you want to interact with\n",
    "edelweiss_api_url = 'https://api.edelweissdata.com'\n",
    "\n",
    "api = API(edelweiss_api_url)"
   ]
  },
  {
   "cell_type": "markdown",
   "metadata": {},
   "source": [
    "## Authentication\n",
    "\n",
    "Some operations in Edelweiss Data are accessible without authentication (e.g. retrieving public datasets). For others (e.g. to create datasets), you need to be authenticated. Authentication is done with the authenticate call. Be aware that this call is currently built for interactive use like in a Jupyter environment - it will block execution for a up to a few minutes while it waits for you to log in to your account and confirm the access to the API on your behalf. Once accepted the python client will store the authentication token so that you will not have to enter it again for a few days (the token is stored in your home directory in the .edelweiss directory)."
   ]
  },
  {
   "cell_type": "code",
   "execution_count": 4,
   "metadata": {},
   "outputs": [],
   "source": [
    "api.authenticate()"
   ]
  },
  {
   "cell_type": "markdown",
   "metadata": {},
   "source": [
    "## Python client API documentation\n",
    "\n",
    "A [full API reference](https://github.com/DouglasConnect/edelweiss-data-python#api-reference) is available on GitHub. Public members and classes are also annotated with docstrings so in most editing environments (including jupyter notebooks) you should be able to get code completion and inline parameter descriptions.\n",
    "\n",
    "Several walkthrough notebooks are available here covering various common operations. These correspond to the walkthroughs in the online documentation on [edelweissdata.com/docs](https://edelweissdata.com/docs/about) but instead of using javascript to perform raw HTTP calls this set of notebooks uses the higher level python client api.\n",
    "\n",
    "### Walkthrough notebooks\n",
    "* [Retrieving data](retrieving-data.ipynb)\n",
    "* [Creating and publishing datasets](create-and-publish.ipynb)\n",
    "* [Metadata](metadata.ipynb)\n",
    "* [Query Expressions](query-language.ipynb)"
   ]
  },
  {
   "cell_type": "code",
   "execution_count": null,
   "metadata": {},
   "outputs": [],
   "source": []
  }
 ],
 "metadata": {
  "kernelspec": {
   "display_name": "Python 3",
   "language": "python",
   "name": "python3"
  },
  "language_info": {
   "codemirror_mode": {
    "name": "ipython",
    "version": 3
   },
   "file_extension": ".py",
   "mimetype": "text/x-python",
   "name": "python",
   "nbconvert_exporter": "python",
   "pygments_lexer": "ipython3",
   "version": "3.8.5"
  }
 },
 "nbformat": 4,
 "nbformat_minor": 4
}
